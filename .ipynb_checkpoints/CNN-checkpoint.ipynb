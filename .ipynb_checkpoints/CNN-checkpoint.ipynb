{
 "cells": [
  {
   "cell_type": "code",
   "execution_count": null,
   "id": "6566889e",
   "metadata": {},
   "outputs": [],
   "source": [
    "library(loadeR) \n",
    "library(loadeR.2nc) \n",
    "library(transformeR)\n",
    "library(downscaleR) \n",
    "library(visualizeR)\n",
    "library(downscaleR.keras) \n",
    "library(climate4R.value) \n",
    "library(climate4R.UDG) \n",
    "library(magrittr) \n",
    "library(RColorBrewer)\n",
    "library(gridExtra)\n",
    "library(ggplot2)"
   ]
  },
  {
   "cell_type": "code",
   "execution_count": null,
   "id": "7f05b3a3",
   "metadata": {},
   "outputs": [],
   "source": [
    "z500<-loadGridData(dataset = \"era/2001-2020_g500.nc\",var = \"z\")\n",
    "new_z500<-gridArithmetics(z500, 9.80665, operator = \"/\")\n",
    "z700<-loadGridData(dataset = \"era/2001-2020_g700.nc\",var = \"z\")\n",
    "new_z700<-gridArithmetics(z700, 9.80665, operator = \"/\")\n",
    "z850<-loadGridData(dataset = \"era/2001-2020_g850.nc\",var = \"z\")\n",
    "new_z850<-gridArithmetics(z850, 9.80665, operator = \"/\")"
   ]
  },
  {
   "cell_type": "code",
   "execution_count": null,
   "id": "922d7755",
   "metadata": {},
   "outputs": [],
   "source": [
    "q500<-loadGridData(dataset = \"era/2001-2020_hus500.nc\",var = \"q\")\n",
    "q700<-loadGridData(dataset = \"era/2001-2020_hus700.nc\",var = \"q\")\n",
    "q850<-loadGridData(dataset = \"era/2001-2020_hus850.nc\",var = \"q\")"
   ]
  },
  {
   "cell_type": "code",
   "execution_count": null,
   "id": "4158364f",
   "metadata": {},
   "outputs": [],
   "source": [
    "t500<-loadGridData(dataset = \"era/2001-2020_ta500.nc\",var = \"t\")\n",
    "t700<-loadGridData(dataset = \"era/2001-2020_ta700.nc\",var = \"t\")\n",
    "t850<-loadGridData(dataset = \"era/2001-2020_ta850.nc\",var = \"t\")"
   ]
  },
  {
   "cell_type": "code",
   "execution_count": null,
   "id": "7ad09e30",
   "metadata": {},
   "outputs": [],
   "source": [
    "u500<-loadGridData(dataset = \"era/2001-2020_u500.nc\",var = \"u\")\n",
    "u700<-loadGridData(dataset = \"era/2001-2020_u700.nc\",var = \"u\")\n",
    "u850<-loadGridData(dataset = \"era/2001-2020_u850.nc\",var = \"u\")"
   ]
  },
  {
   "cell_type": "code",
   "execution_count": null,
   "id": "738b6da6",
   "metadata": {},
   "outputs": [],
   "source": [
    "v500<-loadGridData(dataset = \"era/2001-2020_v500.nc\",var = \"v\")\n",
    "v700<-loadGridData(dataset = \"era/2001-2020_v700.nc\",var = \"v\")\n",
    "v850<-loadGridData(dataset = \"era/2001-2020_v850.nc\",var = \"v\")"
   ]
  },
  {
   "cell_type": "code",
   "execution_count": null,
   "id": "d9f139bf",
   "metadata": {},
   "outputs": [],
   "source": [
    "x<-makeMultiGrid(new_z500,new_z700,new_z850,q500,q700,q850,\n",
    "                t500,t700,t850,u500,u700,u850,v500,v700,v850) %>% redim(,drop=T)"
   ]
  },
  {
   "cell_type": "code",
   "execution_count": null,
   "id": "2faab01f",
   "metadata": {},
   "outputs": [],
   "source": [
    "y<-loadGridData(dataset = \"era/2001-2020_prec.nc\",var = \"prec\")"
   ]
  },
  {
   "cell_type": "code",
   "execution_count": null,
   "id": "5fe364c0",
   "metadata": {},
   "outputs": [],
   "source": [
    "xT<-subsetGrid(x,years=2001:2015) \n",
    "yT<-subsetGrid(y,years=2001:2015)\n",
    "xt<-subsetGrid(x,years=2016:2020)\n",
    "yt<-subsetGrid(y,years=2016:2020)"
   ]
  },
  {
   "cell_type": "code",
   "execution_count": null,
   "id": "b240fa40",
   "metadata": {},
   "outputs": [],
   "source": [
    "xt<-scaleGrid(xt,xT,type=\"standardize\",spatial.frame=\"gridbox\")%>%redim(drop=TRUE)\n",
    "xT<-scaleGrid(xT,type=\"standardize\",spatial.frame=\"gridbox\")%>%redim(drop=TRUE)"
   ]
  },
  {
   "cell_type": "code",
   "execution_count": null,
   "id": "b1ae76a8",
   "metadata": {},
   "outputs": [],
   "source": [
    "xy.T <- prepareData.keras(xT,binaryGrid(gridArithmetics(yT,0.99,operator = \"-\"),\n",
    "                                        condition = \"GE\",\n",
    "                                        threshold = 0,\n",
    "                                        partial = TRUE),\n",
    "                          first.connection = \"conv\",\n",
    "                          last.connection = \"dense\",\n",
    "                          channels = \"last\")"
   ]
  },
  {
   "cell_type": "code",
   "execution_count": null,
   "id": "a9bf8892",
   "metadata": {},
   "outputs": [],
   "source": [
    "xy.tT <- prepareNewData.keras(xT,xy.T)\n",
    "xy.t <- prepareNewData.keras(xt,xy.T)"
   ]
  },
  {
   "cell_type": "code",
   "execution_count": null,
   "id": "d5a6ef3a",
   "metadata": {},
   "outputs": [],
   "source": [
    "modelCNN <- function(inp) {\n",
    "    inputs <- layer_input(shape = dim(inp$x.global)[2:4])\n",
    "    l1 = layer_conv_2d(inputs,filters = 50, kernel_size = c(3,3), activation = 'relu', padding = \"same\")\n",
    "    l2 = layer_conv_2d(l1,filters = 25, kernel_size = c(3,3), activation = 'relu', padding = \"same\")\n",
    "    l3 = layer_conv_2d(l2,filters = 1, kernel_size = c(3,3), activation = 'relu', padding = \"same\")\n",
    "    l4 = layer_flatten(l3)\n",
    "    l51 = layer_dense(l4,units = dim(inp$y$Data)[2], activation = 'sigmoid') \n",
    "    l52 = layer_dense(l4,units = dim(inp$y$Data)[2], activation = 'linear') \n",
    "    l53 = layer_dense(l4,units = dim(inp$y$Data)[2], activation = 'linear') \n",
    "    outputs <- layer_concatenate(list(l51,l52,l53),trainable=TRUE)      \n",
    "    model <- keras_model(inputs = inputs, outputs = outputs) \n",
    "}"
   ]
  },
  {
   "cell_type": "code",
   "execution_count": null,
   "id": "67607a19",
   "metadata": {},
   "outputs": [],
   "source": [
    "downscaleTrain.keras(obj = xy.T,model = modelCNN(xy.T),clear.session = TRUE,\n",
    "                     compile.args = list(\"loss\" = bernouilliGammaLoss(last.connection = \"dense\"),\n",
    "                                         \"optimizer\" = optimizer_adam(lr = 0.0001)),\n",
    "                     fit.args = list(\"batch_size\" = 100,\"epochs\" = 10000,\"validation_split\" = 0.1,\n",
    "                                     \"verbose\" = 1,\n",
    "                                     \"callbacks\" = list(callback_early_stopping(patience = 30),\n",
    "                                                        callback_model_checkpoint(filepath='./models/precip/cnn.h5',\n",
    "                                                                                  monitor='val_loss', save_best_only=TRUE))))"
   ]
  },
  {
   "cell_type": "code",
   "execution_count": null,
   "id": "d3fab0f6",
   "metadata": {},
   "outputs": [],
   "source": [
    "pred_ocu_train <- downscalePredict.keras(newdata = xy.tT,C4R.template = yT,clear.session = TRUE,loss = \"bernouilliGammaLoss\",\n",
    "                                         model = list(\"filepath\" = './models/precip/cnn.h5',\"custom_objects\" = c(\"custom_loss\" = bernouilliGammaLoss(last.connection = \"dense\")))) %>% subsetGrid(var = \"p\")  \n"
   ]
  },
  {
   "cell_type": "code",
   "execution_count": null,
   "id": "c04dbfdc",
   "metadata": {},
   "outputs": [],
   "source": [
    "pred <- downscalePredict.keras(newdata = xy.t,C4R.template = yt,clear.session = TRUE,loss = \"bernouilliGammaLoss\",\n",
    "                                   model = list(\"filepath\" = './models/precip/cnn.h5',\n",
    "                                                \"custom_objects\" = c(\"custom_loss\" = bernouilliGammaLoss(last.connection = \"dense\"))))"
   ]
  },
  {
   "cell_type": "code",
   "execution_count": null,
   "id": "a701fa9d",
   "metadata": {},
   "outputs": [],
   "source": [
    "pred2 <- computeRainfall(log_alpha = subsetGrid(pred,var = \"log_alpha\"),log_beta = subsetGrid(pred,var = \"log_beta\"),bias = 1,simulate = TRUE)"
   ]
  },
  {
   "cell_type": "code",
   "execution_count": null,
   "id": "3f6ad3f8",
   "metadata": {},
   "outputs": [],
   "source": [
    "pred3<- pred2%>% gridArithmetics(binaryGrid(subsetGrid(pred,var = \"p\"),ref.obs = binaryGrid(yT,threshold = 1, condition = \"GE\"),ref.pred = pred_ocu_train))  "
   ]
  },
  {
   "cell_type": "code",
   "execution_count": null,
   "id": "f13f24db",
   "metadata": {},
   "outputs": [],
   "source": [
    "pred3$Dates<-yt$Dates"
   ]
  },
  {
   "cell_type": "code",
   "execution_count": null,
   "id": "75cd082a",
   "metadata": {},
   "outputs": [],
   "source": [
    "grid2nc(pred3,NetCDFOutFile = \"../PycharmProjects/climate_data_analysis/climate_data/cnn.nc\")"
   ]
  }
 ],
 "metadata": {
  "kernelspec": {
   "display_name": "Python 3 (ipykernel)",
   "language": "python",
   "name": "python3"
  },
  "language_info": {
   "codemirror_mode": {
    "name": "ipython",
    "version": 3
   },
   "file_extension": ".py",
   "mimetype": "text/x-python",
   "name": "python",
   "nbconvert_exporter": "python",
   "pygments_lexer": "ipython3",
   "version": "3.13.5"
  }
 },
 "nbformat": 4,
 "nbformat_minor": 5
}
