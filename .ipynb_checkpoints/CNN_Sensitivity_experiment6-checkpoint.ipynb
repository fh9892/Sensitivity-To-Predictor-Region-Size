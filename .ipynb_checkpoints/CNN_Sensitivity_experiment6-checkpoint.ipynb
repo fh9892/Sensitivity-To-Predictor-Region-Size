{
 "cells": [
  {
   "cell_type": "code",
   "execution_count": null,
   "id": "021c6d4d",
   "metadata": {},
   "outputs": [],
   "source": [
    "library(loadeR) \n",
    "library(loadeR.2nc) \n",
    "library(transformeR)\n",
    "library(downscaleR) \n",
    "library(visualizeR)\n",
    "library(downscaleR.keras) \n",
    "library(climate4R.value) \n",
    "library(climate4R.UDG) \n",
    "library(magrittr) \n",
    "library(RColorBrewer)\n",
    "library(gridExtra)\n",
    "library(ggplot2)"
   ]
  },
  {
   "cell_type": "code",
   "execution_count": null,
   "id": "1b53e2e4",
   "metadata": {},
   "outputs": [],
   "source": [
    "z500<-loadGridData(dataset = \"sensitive_experiment/6degree_2000-2020/6degree_g500_2000-2020.nc\",var = \"z\",years = 2001:2020)\n",
    "new_z500<-gridArithmetics(z500, 9.80665, operator = \"/\")\n",
    "z700<-loadGridData(dataset = \"sensitive_experiment/6degree_2000-2020/6degree_g700_2000-2020.nc\",var = \"z\",years = 2001:2020)\n",
    "new_z700<-gridArithmetics(z700, 9.80665, operator = \"/\")\n",
    "z850<-loadGridData(dataset = \"sensitive_experiment/6degree_2000-2020/6degree_g850_2000-2020.nc\",var = \"z\",years = 2001:2020)\n",
    "new_z850<-gridArithmetics(z850, 9.80665, operator = \"/\")"
   ]
  },
  {
   "cell_type": "code",
   "execution_count": null,
   "id": "a19e6acb",
   "metadata": {},
   "outputs": [],
   "source": [
    "q500<-loadGridData(dataset = \"sensitive_experiment/6degree_2000-2020/6degree_hus500_2000-2020.nc\",var = \"q\",years = 2001:2020)\n",
    "q700<-loadGridData(dataset = \"sensitive_experiment/6degree_2000-2020/6degree_hus700_2000-2020.nc\",var = \"q\",years = 2001:2020)\n",
    "q850<-loadGridData(dataset = \"sensitive_experiment/6degree_2000-2020/6degree_hus850_2000-2020.nc\",var = \"q\",years = 2001:2020)"
   ]
  },
  {
   "cell_type": "code",
   "execution_count": null,
   "id": "a8bb6dec",
   "metadata": {},
   "outputs": [],
   "source": [
    "t500<-loadGridData(dataset = \"sensitive_experiment/6degree_2000-2020/6degree_ta500_2000-2020.nc\",var = \"t\",years = 2001:2020)\n",
    "t700<-loadGridData(dataset = \"sensitive_experiment/6degree_2000-2020/6degree_ta700_2000-2020.nc\",var = \"t\",years = 2001:2020)\n",
    "t850<-loadGridData(dataset = \"sensitive_experiment/6degree_2000-2020/6degree_ta850_2000-2020.nc\",var = \"t\",years = 2001:2020)"
   ]
  },
  {
   "cell_type": "code",
   "execution_count": null,
   "id": "aa7c4089",
   "metadata": {},
   "outputs": [],
   "source": [
    "u500<-loadGridData(dataset = \"sensitive_experiment/6degree_2000-2020/6degree_u500_2000-2020.nc\",var = \"u\",years = 2001:2020)\n",
    "u700<-loadGridData(dataset = \"sensitive_experiment/6degree_2000-2020/6degree_u700_2000-2020.nc\",var = \"u\",years = 2001:2020)\n",
    "u850<-loadGridData(dataset = \"sensitive_experiment/6degree_2000-2020/6degree_u850_2000-2020.nc\",var = \"u\",years = 2001:2020)"
   ]
  },
  {
   "cell_type": "code",
   "execution_count": null,
   "id": "4cef5b49",
   "metadata": {},
   "outputs": [],
   "source": [
    "v500<-loadGridData(dataset = \"sensitive_experiment/6degree_2000-2020/6degree_v500_2000-2020.nc\",var = \"v\",years = 2001:2020)\n",
    "v700<-loadGridData(dataset = \"sensitive_experiment/6degree_2000-2020/6degree_v700_2000-2020.nc\",var = \"v\",years = 2001:2020)\n",
    "v850<-loadGridData(dataset = \"sensitive_experiment/6degree_2000-2020/6degree_v850_2000-2020.nc\",var = \"v\",years = 2001:2020)"
   ]
  },
  {
   "cell_type": "code",
   "execution_count": null,
   "id": "e5a65809",
   "metadata": {},
   "outputs": [],
   "source": [
    "x<-makeMultiGrid(new_z500,new_z700,new_z850,q500,q700,q850,\n",
    "                t500,t700,t850,u500,u700,u850,v500,v700,v850) %>% redim(,drop=T)"
   ]
  },
  {
   "cell_type": "code",
   "execution_count": null,
   "id": "10720551",
   "metadata": {},
   "outputs": [],
   "source": [
    "y<-loadGridData(dataset = \"era/2001-2020_prec.nc\",var = \"prec\")"
   ]
  },
  {
   "cell_type": "code",
   "execution_count": null,
   "id": "c751629b",
   "metadata": {},
   "outputs": [],
   "source": [
    "xT<-subsetGrid(x,years=2001:2015) \n",
    "yT<-subsetGrid(y,years=2001:2015)\n",
    "xt<-subsetGrid(x,years=2016:2020)\n",
    "yt<-subsetGrid(y,years=2016:2020)"
   ]
  },
  {
   "cell_type": "code",
   "execution_count": null,
   "id": "c356b19c",
   "metadata": {},
   "outputs": [],
   "source": [
    "xt<-scaleGrid(xt,xT,type=\"standardize\",spatial.frame=\"gridbox\")%>%redim(drop=TRUE)\n",
    "xT<-scaleGrid(xT,type=\"standardize\",spatial.frame=\"gridbox\")%>%redim(drop=TRUE)"
   ]
  },
  {
   "cell_type": "code",
   "execution_count": null,
   "id": "046496b9",
   "metadata": {},
   "outputs": [],
   "source": [
    "xy.T <- prepareData.keras(xT,binaryGrid(gridArithmetics(yT,0.99,operator = \"-\"),\n",
    "                                        condition = \"GE\",\n",
    "                                        threshold = 0,\n",
    "                                        partial = TRUE),\n",
    "                          first.connection = \"conv\",\n",
    "                          last.connection = \"dense\",\n",
    "                          channels = \"last\")"
   ]
  },
  {
   "cell_type": "code",
   "execution_count": null,
   "id": "109527c0",
   "metadata": {},
   "outputs": [],
   "source": [
    "xy.tT <- prepareNewData.keras(xT,xy.T)\n",
    "xy.t <- prepareNewData.keras(xt,xy.T)"
   ]
  },
  {
   "cell_type": "code",
   "execution_count": null,
   "id": "1b769cf6",
   "metadata": {},
   "outputs": [],
   "source": [
    "modelCNN <- function(inp) {\n",
    "    inputs <- layer_input(shape = dim(inp$x.global)[2:4])\n",
    "    l1 = layer_conv_2d(inputs,filters = 50, kernel_size = c(3,3), activation = 'relu', padding = \"same\")\n",
    "    l2 = layer_conv_2d(l1,filters = 25, kernel_size = c(3,3), activation = 'relu', padding = \"same\")\n",
    "    l3 = layer_conv_2d(l2,filters = 1, kernel_size = c(3,3), activation = 'relu', padding = \"same\")\n",
    "    l4 = layer_flatten(l3)\n",
    "    l51 = layer_dense(l4,units = dim(inp$y$Data)[2], activation = 'sigmoid') \n",
    "    l52 = layer_dense(l4,units = dim(inp$y$Data)[2], activation = 'linear') \n",
    "    l53 = layer_dense(l4,units = dim(inp$y$Data)[2], activation = 'linear') \n",
    "    outputs <- layer_concatenate(list(l51,l52,l53),trainable=TRUE)      \n",
    "    model <- keras_model(inputs = inputs, outputs = outputs) \n",
    "}"
   ]
  },
  {
   "cell_type": "code",
   "execution_count": null,
   "id": "3c88eadd",
   "metadata": {},
   "outputs": [],
   "source": [
    "downscaleTrain.keras(obj = xy.T,model = modelCNN(xy.T),clear.session = TRUE,\n",
    "                     compile.args = list(\"loss\" = bernouilliGammaLoss(last.connection = \"dense\"),\n",
    "                                         \"optimizer\" = optimizer_adam(lr = 0.0001)),\n",
    "                     fit.args = list(\"batch_size\" = 100,\"epochs\" = 10000,\"validation_split\" = 0.1,\n",
    "                                     \"verbose\" = 1,\n",
    "                                     \"callbacks\" = list(callback_early_stopping(patience = 30),\n",
    "                                                        callback_model_checkpoint(filepath='./models/Sensitivity_experiment6/CNN_Sensitivity6.h5',\n",
    "                                                                                  monitor='val_loss', save_best_only=TRUE))))"
   ]
  },
  {
   "cell_type": "code",
   "execution_count": null,
   "id": "b3e39ef9",
   "metadata": {},
   "outputs": [],
   "source": [
    "pred_ocu_train <- downscalePredict.keras(newdata = xy.tT,C4R.template = yT,clear.session = TRUE,loss = \"bernouilliGammaLoss\",\n",
    "                                         model = list(\"filepath\" = './models/Sensitivity_experiment6/CNN_Sensitivity6.h5',\"custom_objects\" = c(\"custom_loss\" = bernouilliGammaLoss(last.connection = \"dense\")))) %>% subsetGrid(var = \"p\")  \n"
   ]
  },
  {
   "cell_type": "code",
   "execution_count": null,
   "id": "1c878cfd",
   "metadata": {},
   "outputs": [],
   "source": [
    "pred <- downscalePredict.keras(newdata = xy.t,C4R.template = yt,clear.session = TRUE,loss = \"bernouilliGammaLoss\",\n",
    "                                   model = list(\"filepath\" = './models/Sensitivity_experiment6/CNN_Sensitivity6.h5',\n",
    "                                                \"custom_objects\" = c(\"custom_loss\" = bernouilliGammaLoss(last.connection = \"dense\"))))"
   ]
  },
  {
   "cell_type": "code",
   "execution_count": null,
   "id": "73898231",
   "metadata": {},
   "outputs": [],
   "source": [
    "pred2 <- computeRainfall(log_alpha = subsetGrid(pred,var = \"log_alpha\"),log_beta = subsetGrid(pred,var = \"log_beta\"),bias = 1,simulate = TRUE)"
   ]
  },
  {
   "cell_type": "code",
   "execution_count": null,
   "id": "f767d2af",
   "metadata": {},
   "outputs": [],
   "source": [
    "pred3<- pred2 %>% gridArithmetics(binaryGrid(subsetGrid(pred,var = \"p\"),ref.obs = binaryGrid(yT,threshold = 1, condition = \"GE\"),ref.pred = pred_ocu_train))  "
   ]
  },
  {
   "cell_type": "code",
   "execution_count": null,
   "id": "db7b74fa",
   "metadata": {},
   "outputs": [],
   "source": [
    "pred3$Dates<-yt$Dates"
   ]
  },
  {
   "cell_type": "code",
   "execution_count": null,
   "id": "f385b982-ae10-4d68-afe0-2848444e3121",
   "metadata": {},
   "outputs": [],
   "source": [
    "grid2nc(pred3,NetCDFOutFile = \"./Data/Sensitivity_experiment6/CNN_Precipitation_Sensitivity6.nc\")"
   ]
  }
 ],
 "metadata": {
  "kernelspec": {
   "display_name": "Python 3 (ipykernel)",
   "language": "python",
   "name": "python3"
  },
  "language_info": {
   "codemirror_mode": {
    "name": "ipython",
    "version": 3
   },
   "file_extension": ".py",
   "mimetype": "text/x-python",
   "name": "python",
   "nbconvert_exporter": "python",
   "pygments_lexer": "ipython3",
   "version": "3.13.5"
  }
 },
 "nbformat": 4,
 "nbformat_minor": 5
}
